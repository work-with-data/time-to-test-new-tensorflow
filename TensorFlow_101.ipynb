{
  "nbformat": 4,
  "nbformat_minor": 0,
  "metadata": {
    "colab": {
      "name": "ch-01_TensorFlow_101.ipynb",
      "version": "0.3.2",
      "provenance": [],
      "include_colab_link": true
    },
    "kernelspec": {
      "display_name": "Python 3",
      "language": "python",
      "name": "python3"
    }
  },
  "cells": [
    {
      "cell_type": "markdown",
      "metadata": {
        "id": "view-in-github",
        "colab_type": "text"
      },
      "source": [
        "<a href=\"https://colab.research.google.com/github/alxfed/time-to-test-new-tensorflow/blob/master/TensorFlow_101.ipynb\" target=\"_parent\"><img src=\"https://colab.research.google.com/assets/colab-badge.svg\" alt=\"Open In Colab\"/></a>"
      ]
    },
    {
      "metadata": {
        "toc": true,
        "id": "OyL4jvZowrwB",
        "colab_type": "text"
      },
      "cell_type": "markdown",
      "source": [
        "<h1>Table of Contents<span class=\"tocSkip\"></span></h1>\n",
        "<div class=\"toc\" style=\"margin-top: 1em;\"><ul class=\"toc-item\"><li><span><a href=\"#Get-an-Interactive-TensorFlow-Session\" data-toc-modified-id=\"Get-an-Interactive-TensorFlow-Session-1\"><span class=\"toc-item-num\">1&nbsp;&nbsp;</span>Get an Interactive TensorFlow Session</a></span></li><li><span><a href=\"#Customary-Hello-TensorFlow-!!!\" data-toc-modified-id=\"Customary-Hello-TensorFlow-!!!-2\"><span class=\"toc-item-num\">2&nbsp;&nbsp;</span>Customary Hello TensorFlow !!!</a></span></li><li><span><a href=\"#Constants\" data-toc-modified-id=\"Constants-3\"><span class=\"toc-item-num\">3&nbsp;&nbsp;</span>Constants</a></span></li><li><span><a href=\"#Operations\" data-toc-modified-id=\"Operations-4\"><span class=\"toc-item-num\">4&nbsp;&nbsp;</span>Operations</a></span></li><li><span><a href=\"#Placeholders\" data-toc-modified-id=\"Placeholders-5\"><span class=\"toc-item-num\">5&nbsp;&nbsp;</span>Placeholders</a></span></li><li><span><a href=\"#Creating-Tensors-from-Existing-Objects\" data-toc-modified-id=\"Creating-Tensors-from-Existing-Objects-6\"><span class=\"toc-item-num\">6&nbsp;&nbsp;</span>Creating Tensors from Existing Objects</a></span><ul class=\"toc-item\"><li><span><a href=\"#0-Dimensional-Tensors-(Scalars)\" data-toc-modified-id=\"0-Dimensional-Tensors-(Scalars)-6.1\"><span class=\"toc-item-num\">6.1&nbsp;&nbsp;</span>0-Dimensional Tensors (Scalars)</a></span></li><li><span><a href=\"#1-Dimensional-Tensors-(Vectors)\" data-toc-modified-id=\"1-Dimensional-Tensors-(Vectors)-6.2\"><span class=\"toc-item-num\">6.2&nbsp;&nbsp;</span>1-Dimensional Tensors (Vectors)</a></span></li><li><span><a href=\"#2-Dimensional-Tensors-(Matrices)\" data-toc-modified-id=\"2-Dimensional-Tensors-(Matrices)-6.3\"><span class=\"toc-item-num\">6.3&nbsp;&nbsp;</span>2-Dimensional Tensors (Matrices)</a></span></li><li><span><a href=\"#3-Dimensional-Tensors\" data-toc-modified-id=\"3-Dimensional-Tensors-6.4\"><span class=\"toc-item-num\">6.4&nbsp;&nbsp;</span>3-Dimensional Tensors</a></span></li></ul></li><li><span><a href=\"#Variables\" data-toc-modified-id=\"Variables-7\"><span class=\"toc-item-num\">7&nbsp;&nbsp;</span>Variables</a></span></li><li><span><a href=\"#Creating-Tensors-from-Library-Functions\" data-toc-modified-id=\"Creating-Tensors-from-Library-Functions-8\"><span class=\"toc-item-num\">8&nbsp;&nbsp;</span>Creating Tensors from Library Functions</a></span></li><li><span><a href=\"#Close-the-interactive-session\" data-toc-modified-id=\"Close-the-interactive-session-9\"><span class=\"toc-item-num\">9&nbsp;&nbsp;</span>Close the interactive session</a></span></li><li><span><a href=\"#Computation-Graphs\" data-toc-modified-id=\"Computation-Graphs-10\"><span class=\"toc-item-num\">10&nbsp;&nbsp;</span>Computation Graphs</a></span><ul class=\"toc-item\"><li><span><a href=\"#Building-and-Running-simple-computation-graph\" data-toc-modified-id=\"Building-and-Running-simple-computation-graph-10.1\"><span class=\"toc-item-num\">10.1&nbsp;&nbsp;</span>Building and Running simple computation graph</a></span></li><li><span><a href=\"#Graph-on-Compute-Devices\" data-toc-modified-id=\"Graph-on-Compute-Devices-10.2\"><span class=\"toc-item-num\">10.2&nbsp;&nbsp;</span>Graph on Compute Devices</a></span></li><li><span><a href=\"#Executing-Graph-g-as-Default\" data-toc-modified-id=\"Executing-Graph-g-as-Default-10.3\"><span class=\"toc-item-num\">10.3&nbsp;&nbsp;</span>Executing Graph g as Default</a></span></li></ul></li><li><span><a href=\"#TensorBoard\" data-toc-modified-id=\"TensorBoard-11\"><span class=\"toc-item-num\">11&nbsp;&nbsp;</span>TensorBoard</a></span></li></ul></div>"
      ]
    },
    {
      "metadata": {
        "id": "zXdH2Um7wrwF",
        "colab_type": "text"
      },
      "cell_type": "markdown",
      "source": [
        "# TensorFlow 101 <a class=\"tocSkip\">"
      ]
    },
    {
      "metadata": {
        "id": "hFjLxY9vwrwI",
        "colab_type": "code",
        "colab": {}
      },
      "cell_type": "code",
      "source": [
        "import tensorflow as tf\n",
        "import numpy as np"
      ],
      "execution_count": 0,
      "outputs": []
    },
    {
      "metadata": {
        "id": "Drh4tVewwrwW",
        "colab_type": "text"
      },
      "cell_type": "markdown",
      "source": [
        "# Get an Interactive TensorFlow Session "
      ]
    },
    {
      "metadata": {
        "collapsed": true,
        "id": "ycKORw1fwrwY",
        "colab_type": "code",
        "colab": {}
      },
      "cell_type": "code",
      "source": [
        "tfs = tf.InteractiveSession()"
      ],
      "execution_count": 0,
      "outputs": []
    },
    {
      "metadata": {
        "id": "nw6ghyYgwrwf",
        "colab_type": "text"
      },
      "cell_type": "markdown",
      "source": [
        "# Customary Hello TensorFlow !!!"
      ]
    },
    {
      "metadata": {
        "id": "ZP9fTShswrwh",
        "colab_type": "code",
        "colab": {
          "base_uri": "https://localhost:8080/",
          "height": 34
        },
        "outputId": "64cb5c5c-9b3b-48ae-f1ea-3073c5dbedd5"
      },
      "cell_type": "code",
      "source": [
        "hello = tf.constant(\"Hello TensorFlow !!\")\n",
        "print(tfs.run(hello))"
      ],
      "execution_count": 3,
      "outputs": [
        {
          "output_type": "stream",
          "text": [
            "b'Hello TensorFlow !!'\n"
          ],
          "name": "stdout"
        }
      ]
    },
    {
      "metadata": {
        "id": "dpuGhQuuwrwp",
        "colab_type": "text"
      },
      "cell_type": "markdown",
      "source": [
        "# Constants"
      ]
    },
    {
      "metadata": {
        "id": "BjZ3hM7-wrwr",
        "colab_type": "code",
        "colab": {
          "base_uri": "https://localhost:8080/",
          "height": 67
        },
        "outputId": "167e3b0c-7ced-4eb9-fb83-9a68172ec530"
      },
      "cell_type": "code",
      "source": [
        "c1 = tf.constant(5, name='x')\n",
        "c2 = tf.constant(6.0, name='y')\n",
        "c3 = tf.constant(7.0, tf.float32, name='z')\n",
        "print('c1 (x): ', c1)\n",
        "print('c2 (y): ', c2)\n",
        "print('c3 (z): ', c3)"
      ],
      "execution_count": 4,
      "outputs": [
        {
          "output_type": "stream",
          "text": [
            "c1 (x):  Tensor(\"x:0\", shape=(), dtype=int32)\n",
            "c2 (y):  Tensor(\"y:0\", shape=(), dtype=float32)\n",
            "c3 (z):  Tensor(\"z:0\", shape=(), dtype=float32)\n"
          ],
          "name": "stdout"
        }
      ]
    },
    {
      "metadata": {
        "id": "_o2HaDlJwrwz",
        "colab_type": "code",
        "colab": {
          "base_uri": "https://localhost:8080/",
          "height": 34
        },
        "outputId": "1d3ae9c0-3fd3-48c2-f728-b18a805d7537"
      },
      "cell_type": "code",
      "source": [
        "print('run([c1,c2,c3]) : ', tfs.run([c1, c2, c3]))"
      ],
      "execution_count": 5,
      "outputs": [
        {
          "output_type": "stream",
          "text": [
            "run([c1,c2,c3]) :  [5, 6.0, 7.0]\n"
          ],
          "name": "stdout"
        }
      ]
    },
    {
      "metadata": {
        "id": "cu6LMJaHwrw5",
        "colab_type": "text"
      },
      "cell_type": "markdown",
      "source": [
        "# Operations"
      ]
    },
    {
      "metadata": {
        "id": "qz7AYelZwrw8",
        "colab_type": "code",
        "colab": {
          "base_uri": "https://localhost:8080/",
          "height": 50
        },
        "outputId": "428762e0-4442-4c64-b985-c0dc0b314afc"
      },
      "cell_type": "code",
      "source": [
        "op1 = tf.add(c2, c3)\n",
        "op2 = tf.multiply(c2, c3)\n",
        "print('op1 : ', op1)\n",
        "print('op2 : ', op2)"
      ],
      "execution_count": 6,
      "outputs": [
        {
          "output_type": "stream",
          "text": [
            "op1 :  Tensor(\"Add:0\", shape=(), dtype=float32)\n",
            "op2 :  Tensor(\"Mul:0\", shape=(), dtype=float32)\n"
          ],
          "name": "stdout"
        }
      ]
    },
    {
      "metadata": {
        "id": "lF2MHcPnwrxD",
        "colab_type": "code",
        "colab": {
          "base_uri": "https://localhost:8080/",
          "height": 50
        },
        "outputId": "8b588a0e-cfa7-4fc4-cae4-ff19c64a946f"
      },
      "cell_type": "code",
      "source": [
        "print('run(op1) : ', tfs.run(op1))\n",
        "print('run(op2) : ', tfs.run(op2))"
      ],
      "execution_count": 7,
      "outputs": [
        {
          "output_type": "stream",
          "text": [
            "run(op1) :  13.0\n",
            "run(op2) :  42.0\n"
          ],
          "name": "stdout"
        }
      ]
    },
    {
      "metadata": {
        "id": "u4jbu-T_wrxK",
        "colab_type": "text"
      },
      "cell_type": "markdown",
      "source": [
        "# Placeholders"
      ]
    },
    {
      "metadata": {
        "id": "ciyArs47wrxQ",
        "colab_type": "code",
        "colab": {
          "base_uri": "https://localhost:8080/",
          "height": 50
        },
        "outputId": "7e98564d-b273-404f-9be8-98b205207de3"
      },
      "cell_type": "code",
      "source": [
        "p1 = tf.placeholder(tf.float32)\n",
        "p2 = tf.placeholder(tf.float32)\n",
        "print('p1 : ', p1)\n",
        "print('p2 : ', p2)"
      ],
      "execution_count": 8,
      "outputs": [
        {
          "output_type": "stream",
          "text": [
            "p1 :  Tensor(\"Placeholder:0\", dtype=float32)\n",
            "p2 :  Tensor(\"Placeholder_1:0\", dtype=float32)\n"
          ],
          "name": "stdout"
        }
      ]
    },
    {
      "metadata": {
        "id": "336tnWn-wrxX",
        "colab_type": "code",
        "colab": {}
      },
      "cell_type": "code",
      "source": [
        "op4 = p1 * p2  # shorthand for tf.multiply(p1, p2)"
      ],
      "execution_count": 0,
      "outputs": []
    },
    {
      "metadata": {
        "id": "VehXQHi6wrxc",
        "colab_type": "code",
        "colab": {
          "base_uri": "https://localhost:8080/",
          "height": 34
        },
        "outputId": "e0bd0fdd-adec-4829-d1c6-aff845019962"
      },
      "cell_type": "code",
      "source": [
        "print('run(op4,{p1:2.0, p2:3.0}) : ',tfs.run(op4,{p1:2.0, p2:3.0}))"
      ],
      "execution_count": 10,
      "outputs": [
        {
          "output_type": "stream",
          "text": [
            "run(op4,{p1:2.0, p2:3.0}) :  6.0\n"
          ],
          "name": "stdout"
        }
      ]
    },
    {
      "metadata": {
        "id": "rEpQCu2cwrxj",
        "colab_type": "code",
        "colab": {
          "base_uri": "https://localhost:8080/",
          "height": 34
        },
        "outputId": "0f72f328-1aa6-4dbe-dfe8-1fc6731bdc16"
      },
      "cell_type": "code",
      "source": [
        "print('run(op4,feed_dict = {p1:3.0, p2:4.0}) : ',\n",
        "      tfs.run(op4, feed_dict={p1: 3.0, p2: 4.0}))"
      ],
      "execution_count": 11,
      "outputs": [
        {
          "output_type": "stream",
          "text": [
            "run(op4,feed_dict = {p1:3.0, p2:4.0}) :  12.0\n"
          ],
          "name": "stdout"
        }
      ]
    },
    {
      "metadata": {
        "id": "HU_RfjG1wrxs",
        "colab_type": "code",
        "colab": {
          "base_uri": "https://localhost:8080/",
          "height": 34
        },
        "outputId": "d8e62269-ca20-4f9b-b204-d76c69450f23"
      },
      "cell_type": "code",
      "source": [
        "print('run(op4,feed_dict={p1:[2.0,3.0,4.0], p2:[3.0,4.0,5.0]}):',\n",
        "      tfs.run(op4, feed_dict={p1: [2.0, 3.0, 4.0], p2: [3.0, 4.0, 5.0]}))"
      ],
      "execution_count": 12,
      "outputs": [
        {
          "output_type": "stream",
          "text": [
            "run(op4,feed_dict={p1:[2.0,3.0,4.0], p2:[3.0,4.0,5.0]}): [ 6. 12. 20.]\n"
          ],
          "name": "stdout"
        }
      ]
    },
    {
      "metadata": {
        "id": "a9Uou7Mswrx4",
        "colab_type": "text"
      },
      "cell_type": "markdown",
      "source": [
        "# Creating Tensors from Existing Objects"
      ]
    },
    {
      "metadata": {
        "id": "lBH6PoTrwrx5",
        "colab_type": "text"
      },
      "cell_type": "markdown",
      "source": [
        "## 0-Dimensional Tensors (Scalars)"
      ]
    },
    {
      "metadata": {
        "id": "qjzfz4iewrx8",
        "colab_type": "code",
        "colab": {
          "base_uri": "https://localhost:8080/",
          "height": 67
        },
        "outputId": "4668ead4-ff2b-47e5-ddc1-44c73038ad47"
      },
      "cell_type": "code",
      "source": [
        "tf_t = tf.convert_to_tensor(5.0, dtype=tf.float64)\n",
        "\n",
        "print('tf_t : ', tf_t)\n",
        "print('run(tf_t) : \\n', tfs.run(tf_t))"
      ],
      "execution_count": 13,
      "outputs": [
        {
          "output_type": "stream",
          "text": [
            "tf_t :  Tensor(\"Const_1:0\", shape=(), dtype=float64)\n",
            "run(tf_t) : \n",
            " 5.0\n"
          ],
          "name": "stdout"
        }
      ]
    },
    {
      "metadata": {
        "id": "kpuRCjQTwryD",
        "colab_type": "text"
      },
      "cell_type": "markdown",
      "source": [
        "## 1-Dimensional Tensors (Vectors)"
      ]
    },
    {
      "metadata": {
        "scrolled": true,
        "id": "MIahF88uwryF",
        "colab_type": "code",
        "colab": {
          "base_uri": "https://localhost:8080/",
          "height": 118
        },
        "outputId": "d9141576-fcb7-4131-abf4-03bca79b8fb2"
      },
      "cell_type": "code",
      "source": [
        "a1dim = np.array([1, 2, 3, 4, 5.99])\n",
        "print(\"a1dim Shape : \", a1dim.shape)\n",
        "\n",
        "tf_t = tf.convert_to_tensor(a1dim, dtype=tf.float64)\n",
        "\n",
        "print('tf_t : ', tf_t)\n",
        "print('tf_t[0] : ', tf_t[0])\n",
        "print('tf_t[0] : ', tf_t[2])\n",
        "print('run(tf_t) : \\n', tfs.run(tf_t))"
      ],
      "execution_count": 14,
      "outputs": [
        {
          "output_type": "stream",
          "text": [
            "a1dim Shape :  (5,)\n",
            "tf_t :  Tensor(\"Const_2:0\", shape=(5,), dtype=float64)\n",
            "tf_t[0] :  Tensor(\"strided_slice:0\", shape=(), dtype=float64)\n",
            "tf_t[0] :  Tensor(\"strided_slice_1:0\", shape=(), dtype=float64)\n",
            "run(tf_t) : \n",
            " [1.   2.   3.   4.   5.99]\n"
          ],
          "name": "stdout"
        }
      ]
    },
    {
      "metadata": {
        "id": "Y3xdSagiwryK",
        "colab_type": "text"
      },
      "cell_type": "markdown",
      "source": [
        "## 2-Dimensional Tensors (Matrices)"
      ]
    },
    {
      "metadata": {
        "id": "7LGUrH-qwryM",
        "colab_type": "code",
        "colab": {
          "base_uri": "https://localhost:8080/",
          "height": 151
        },
        "outputId": "c88af4cf-0bb6-4808-dc97-05cfcf90870d"
      },
      "cell_type": "code",
      "source": [
        "a2dim = np.array([(1, 2, 3, 4, 5.99),\n",
        "                  (2, 3, 4, 5, 6.99),\n",
        "                  (3, 4, 5, 6, 7.99)\n",
        "                  ])\n",
        "print(\"a2dim Shape : \", a2dim.shape)\n",
        "\n",
        "tf_t = tf.convert_to_tensor(a2dim, dtype=tf.float64)\n",
        "\n",
        "print('tf_t : ', tf_t)\n",
        "print('tf_t[0][0] : ', tf_t[0][0])\n",
        "print('tf_t[1][2] : ', tf_t[1][2])\n",
        "print('run(tf_t) : \\n', tfs.run(tf_t))"
      ],
      "execution_count": 15,
      "outputs": [
        {
          "output_type": "stream",
          "text": [
            "a2dim Shape :  (3, 5)\n",
            "tf_t :  Tensor(\"Const_3:0\", shape=(3, 5), dtype=float64)\n",
            "tf_t[0][0] :  Tensor(\"strided_slice_3:0\", shape=(), dtype=float64)\n",
            "tf_t[1][2] :  Tensor(\"strided_slice_5:0\", shape=(), dtype=float64)\n",
            "run(tf_t) : \n",
            " [[1.   2.   3.   4.   5.99]\n",
            " [2.   3.   4.   5.   6.99]\n",
            " [3.   4.   5.   6.   7.99]]\n"
          ],
          "name": "stdout"
        }
      ]
    },
    {
      "metadata": {
        "id": "vqi7UOjFwryR",
        "colab_type": "text"
      },
      "cell_type": "markdown",
      "source": [
        "## 3-Dimensional Tensors"
      ]
    },
    {
      "metadata": {
        "id": "PimbZb1XwryT",
        "colab_type": "code",
        "colab": {
          "base_uri": "https://localhost:8080/",
          "height": 185
        },
        "outputId": "0e49f051-84df-4d3a-c221-d1e4e6e0d2e3"
      },
      "cell_type": "code",
      "source": [
        "a3dim = np.array([[[1, 2],\n",
        "                   [3, 4]\n",
        "                   ],\n",
        "                  [[5, 6],\n",
        "                   [7, 8]\n",
        "                   ]\n",
        "                  ])\n",
        "print(\"a3dim Shape : \", a3dim.shape)\n",
        "\n",
        "tf_t = tf.convert_to_tensor(a3dim, dtype=tf.float64)\n",
        "\n",
        "print('tf_t : ', tf_t)\n",
        "print('tf_t[0][0][0] : ', tf_t[0][0][0])\n",
        "print('tf_t[1][1][1] : ', tf_t[1][1][1])\n",
        "print('run(tf_t) : \\n', tfs.run(tf_t))"
      ],
      "execution_count": 16,
      "outputs": [
        {
          "output_type": "stream",
          "text": [
            "a3dim Shape :  (2, 2, 2)\n",
            "tf_t :  Tensor(\"Const_4:0\", shape=(2, 2, 2), dtype=float64)\n",
            "tf_t[0][0][0] :  Tensor(\"strided_slice_8:0\", shape=(), dtype=float64)\n",
            "tf_t[1][1][1] :  Tensor(\"strided_slice_11:0\", shape=(), dtype=float64)\n",
            "run(tf_t) : \n",
            " [[[1. 2.]\n",
            "  [3. 4.]]\n",
            "\n",
            " [[5. 6.]\n",
            "  [7. 8.]]]\n"
          ],
          "name": "stdout"
        }
      ]
    },
    {
      "metadata": {
        "id": "zw5nnBSswrya",
        "colab_type": "text"
      },
      "cell_type": "markdown",
      "source": [
        "# Variables"
      ]
    },
    {
      "metadata": {
        "scrolled": true,
        "id": "5psSOTBmwryc",
        "colab_type": "code",
        "colab": {
          "base_uri": "https://localhost:8080/",
          "height": 154
        },
        "outputId": "7c2d0415-1db7-4d35-d4d4-cd1044f7fe3e"
      },
      "cell_type": "code",
      "source": [
        "# Assume Linear Model y = w * x + b\n",
        "# Define model parameters\n",
        "w = tf.Variable([.3], tf.float32)\n",
        "b = tf.Variable([-.3], tf.float32)\n",
        "# Define model input and output\n",
        "x = tf.placeholder(tf.float32)\n",
        "y = w * x + b\n",
        "\n",
        "print(\"w:\", w)\n",
        "print(\"x:\", x)\n",
        "print(\"b:\", b)\n",
        "print(\"y:\", y)"
      ],
      "execution_count": 17,
      "outputs": [
        {
          "output_type": "stream",
          "text": [
            "WARNING:tensorflow:From /usr/local/lib/python3.6/dist-packages/tensorflow/python/framework/op_def_library.py:263: colocate_with (from tensorflow.python.framework.ops) is deprecated and will be removed in a future version.\n",
            "Instructions for updating:\n",
            "Colocations handled automatically by placer.\n",
            "w: <tf.Variable 'Variable:0' shape=(1,) dtype=float32_ref>\n",
            "x: Tensor(\"Placeholder_2:0\", dtype=float32)\n",
            "b: <tf.Variable 'Variable_1:0' shape=(1,) dtype=float32_ref>\n",
            "y: Tensor(\"add_1:0\", dtype=float32)\n"
          ],
          "name": "stdout"
        }
      ]
    },
    {
      "metadata": {
        "scrolled": true,
        "id": "jNb20TWDwryi",
        "colab_type": "code",
        "colab": {},
        "outputId": "89046be8-decd-48db-872d-66c5d064fb05"
      },
      "cell_type": "code",
      "source": [
        "# initialize and print the variable y\n",
        "tf.global_variables_initializer().run()\n",
        "print('run(y,{x:[1,2,3,4]}) : ', tfs.run(y, {x: [1, 2, 3, 4]}))"
      ],
      "execution_count": 0,
      "outputs": [
        {
          "output_type": "stream",
          "text": [
            "run(y,{x:[1,2,3,4]}) :  [ 0.          0.30000001  0.60000002  0.90000004]\n"
          ],
          "name": "stdout"
        }
      ]
    },
    {
      "metadata": {
        "id": "PP7GmHyBwryr",
        "colab_type": "text"
      },
      "cell_type": "markdown",
      "source": [
        "# Creating Tensors from Library Functions"
      ]
    },
    {
      "metadata": {
        "id": "yHLHznVRwrys",
        "colab_type": "code",
        "colab": {},
        "outputId": "cc006e6d-a728-46a7-c048-3f7178f6f93c"
      },
      "cell_type": "code",
      "source": [
        "a = tf.zeros((100,))\n",
        "print(tfs.run(a))"
      ],
      "execution_count": 0,
      "outputs": [
        {
          "output_type": "stream",
          "text": [
            "[ 0.  0.  0.  0.  0.  0.  0.  0.  0.  0.  0.  0.  0.  0.  0.  0.  0.  0.\n",
            "  0.  0.  0.  0.  0.  0.  0.  0.  0.  0.  0.  0.  0.  0.  0.  0.  0.  0.\n",
            "  0.  0.  0.  0.  0.  0.  0.  0.  0.  0.  0.  0.  0.  0.  0.  0.  0.  0.\n",
            "  0.  0.  0.  0.  0.  0.  0.  0.  0.  0.  0.  0.  0.  0.  0.  0.  0.  0.\n",
            "  0.  0.  0.  0.  0.  0.  0.  0.  0.  0.  0.  0.  0.  0.  0.  0.  0.  0.\n",
            "  0.  0.  0.  0.  0.  0.  0.  0.  0.  0.]\n"
          ],
          "name": "stdout"
        }
      ]
    },
    {
      "metadata": {
        "id": "y0MCGtpKwryz",
        "colab_type": "text"
      },
      "cell_type": "markdown",
      "source": [
        "# Close the interactive session"
      ]
    },
    {
      "metadata": {
        "id": "fnB3MctYwry0",
        "colab_type": "code",
        "colab": {}
      },
      "cell_type": "code",
      "source": [
        "tfs.close()"
      ],
      "execution_count": 0,
      "outputs": []
    },
    {
      "metadata": {
        "id": "SRwDWzGuwry4",
        "colab_type": "text"
      },
      "cell_type": "markdown",
      "source": [
        "# Computation Graphs"
      ]
    },
    {
      "metadata": {
        "id": "_8BCbRQowry5",
        "colab_type": "text"
      },
      "cell_type": "markdown",
      "source": [
        "## Building and Running simple computation graph"
      ]
    },
    {
      "metadata": {
        "id": "8-lCYdlCwry6",
        "colab_type": "code",
        "colab": {},
        "outputId": "d1631c51-ec74-4b4b-cb78-a5d52aeedcbe"
      },
      "cell_type": "code",
      "source": [
        "# Assume Linear Model y = w * x + b\n",
        "# Define model parameters\n",
        "w = tf.Variable([.3], tf.float32)\n",
        "b = tf.Variable([-.3], tf.float32)\n",
        "# Define model input and output\n",
        "x = tf.placeholder(tf.float32)\n",
        "y = w * x + b\n",
        "output = 0\n",
        "\n",
        "with tf.Session() as tfs:\n",
        "    # initialize and print the variable y\n",
        "    tf.global_variables_initializer().run()\n",
        "    output = tfs.run(y, {x: [1, 2, 3, 4]})\n",
        "print('output : ', output)"
      ],
      "execution_count": 0,
      "outputs": [
        {
          "output_type": "stream",
          "text": [
            "output :  [ 0.          0.30000001  0.60000002  0.90000004]\n"
          ],
          "name": "stdout"
        }
      ]
    },
    {
      "metadata": {
        "id": "sznZnrH_wrzA",
        "colab_type": "text"
      },
      "cell_type": "markdown",
      "source": [
        "## Graph on Compute Devices"
      ]
    },
    {
      "metadata": {
        "id": "pmss39HgwrzB",
        "colab_type": "code",
        "colab": {},
        "outputId": "ac94daa2-923d-4733-9ab1-ec07632af3eb"
      },
      "cell_type": "code",
      "source": [
        "from tensorflow.python.client import device_lib\n",
        "\n",
        "print(device_lib.list_local_devices())"
      ],
      "execution_count": 0,
      "outputs": [
        {
          "output_type": "stream",
          "text": [
            "[name: \"/cpu:0\"\n",
            "device_type: \"CPU\"\n",
            "memory_limit: 268435456\n",
            "locality {\n",
            "}\n",
            "incarnation: 12445270569278384213\n",
            ", name: \"/gpu:0\"\n",
            "device_type: \"GPU\"\n",
            "memory_limit: 25628672\n",
            "locality {\n",
            "  bus_id: 1\n",
            "}\n",
            "incarnation: 5284662930836416221\n",
            "physical_device_desc: \"device: 0, name: GeForce GT 750M, pci bus id: 0000:01:00.0\"\n",
            "]\n"
          ],
          "name": "stdout"
        }
      ]
    },
    {
      "metadata": {
        "id": "1YxtzAMewrzJ",
        "colab_type": "code",
        "colab": {},
        "outputId": "5d410c74-8a2b-44e9-d73c-6b9001fae503"
      },
      "cell_type": "code",
      "source": [
        "tf.reset_default_graph()\n",
        "\n",
        "# Define model parameters\n",
        "w = tf.get_variable(name='w', initializer=[.3], dtype=tf.float32)\n",
        "b = tf.get_variable(name='b', initializer=[-.3], dtype=tf.float32)\n",
        "# Define model input and output\n",
        "x = tf.placeholder(name='x', dtype=tf.float32)\n",
        "y = w * x + b\n",
        "\n",
        "config = tf.ConfigProto()\n",
        "config.log_device_placement = True\n",
        "\n",
        "with tf.Session(config=config) as tfs:\n",
        "    # initialize and print the variable y\n",
        "    tfs.run(tf.global_variables_initializer())\n",
        "    print('output', tfs.run(y, {x: [1, 2, 3, 4]}))"
      ],
      "execution_count": 0,
      "outputs": [
        {
          "output_type": "stream",
          "text": [
            "output from GPU: [ 0.          0.30000001  0.60000002  0.90000004]\n"
          ],
          "name": "stdout"
        }
      ]
    },
    {
      "metadata": {
        "id": "Ep-QdrYIwrzR",
        "colab_type": "code",
        "colab": {}
      },
      "cell_type": "code",
      "source": [
        "tf.reset_default_graph()\n",
        "\n",
        "with tf.device('/device:CPU:0'):\n",
        "    # Define model parameters\n",
        "    w = tf.get_variable(name='w', initializer=[.3], dtype=tf.float32)\n",
        "    b = tf.get_variable(name='b', initializer=[-.3], dtype=tf.float32)\n",
        "    # Define model input and output\n",
        "    x = tf.placeholder(name='x', dtype=tf.float32)\n",
        "    y = w * x + b\n",
        "\n",
        "config = tf.ConfigProto()\n",
        "config.log_device_placement = True\n",
        "\n",
        "with tf.Session(config=config) as tfs:\n",
        "    # initialize and print the variable y\n",
        "    tfs.run(tf.global_variables_initializer())\n",
        "    print('output', tfs.run(y, {x: [1, 2, 3, 4]}))"
      ],
      "execution_count": 0,
      "outputs": []
    },
    {
      "metadata": {
        "id": "aPc0-TY3wrzU",
        "colab_type": "code",
        "colab": {}
      },
      "cell_type": "code",
      "source": [
        "tf.reset_default_graph()\n",
        "\n",
        "with tf.device('/device:CPU:0'):\n",
        "    # Define model parameters\n",
        "    w = tf.get_variable(name='w', initializer=[.3], dtype=tf.float32)\n",
        "    b = tf.get_variable(name='b', initializer=[-.3], dtype=tf.float32)\n",
        "    # Define model input and output\n",
        "    x = tf.placeholder(name='x', dtype=tf.float32)\n",
        "with tf.device('/device:GPU:0'):\n",
        "    y = w * x + b\n",
        "\n",
        "config = tf.ConfigProto()\n",
        "config.log_device_placement = True\n",
        "\n",
        "with tf.Session(config=config) as tfs:\n",
        "    # initialize and print the variable y\n",
        "    tfs.run(tf.global_variables_initializer())\n",
        "    print('output', tfs.run(y, {x: [1, 2, 3, 4]}))"
      ],
      "execution_count": 0,
      "outputs": []
    },
    {
      "metadata": {
        "id": "kvHbuxNBwrzY",
        "colab_type": "text"
      },
      "cell_type": "markdown",
      "source": [
        "## Executing Graph g as Default"
      ]
    },
    {
      "metadata": {
        "id": "jk0Ikyfmwrza",
        "colab_type": "code",
        "colab": {},
        "outputId": "6a65acb9-0f62-4762-fcde-348f93146a1f"
      },
      "cell_type": "code",
      "source": [
        "g = tf.Graph()\n",
        "output = 0\n",
        "\n",
        "# Assume Linear Model y = w * x + b\n",
        "\n",
        "with g.as_default():\n",
        "    # Define model parameters\n",
        "    w = tf.Variable([.3], tf.float32)\n",
        "    b = tf.Variable([-.3], tf.float32)\n",
        "    # Define model input and output\n",
        "    x = tf.placeholder(tf.float32)\n",
        "    y = w * x + b\n",
        "\n",
        "with tf.Session(graph=g) as tfs:\n",
        "    # initialize and print the variable y\n",
        "    tf.global_variables_initializer().run()\n",
        "    output = tfs.run(y, {x: [1, 2, 3, 4]})\n",
        "\n",
        "print('output : ', output)"
      ],
      "execution_count": 0,
      "outputs": [
        {
          "output_type": "stream",
          "text": [
            "output :  [ 0.          0.30000001  0.60000002  0.90000004]\n"
          ],
          "name": "stdout"
        }
      ]
    },
    {
      "metadata": {
        "collapsed": true,
        "id": "cGBmtzSXwrzh",
        "colab_type": "text"
      },
      "cell_type": "markdown",
      "source": [
        "# TensorBoard"
      ]
    },
    {
      "metadata": {
        "id": "AcAbjPgBwrzj",
        "colab_type": "code",
        "colab": {},
        "outputId": "75e4eda2-545f-47ab-9a4a-fd769772d77f"
      },
      "cell_type": "code",
      "source": [
        "import tensorflow as tf\n",
        "import numpy as np\n",
        "\n",
        "# Assume Linear Model y = w * x + b\n",
        "# Define model parameters\n",
        "w = tf.Variable([.3], name='w', dtype=tf.float32)\n",
        "b = tf.Variable([-.3], name='b', dtype=tf.float32)\n",
        "# Define model input and output\n",
        "x = tf.placeholder(name='x', dtype=tf.float32)\n",
        "y = w * x + b\n",
        "\n",
        "with tf.Session() as tfs:\n",
        "    tf.global_variables_initializer().run()\n",
        "    writer = tf.summary.FileWriter('tflogs', tfs.graph)\n",
        "    print('run(y,{x:3}) : ', tfs.run(y, feed_dict={x: 3}))"
      ],
      "execution_count": 0,
      "outputs": [
        {
          "output_type": "stream",
          "text": [
            "run(y,{x:3}) :  [ 0.60000002]\n"
          ],
          "name": "stdout"
        }
      ]
    },
    {
      "metadata": {
        "id": "GTJuh4WHwrzp",
        "colab_type": "code",
        "colab": {}
      },
      "cell_type": "code",
      "source": [
        "# execute: tensorboard --logdir=logs"
      ],
      "execution_count": 0,
      "outputs": []
    }
  ]
}