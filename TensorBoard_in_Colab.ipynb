{
  "nbformat": 4,
  "nbformat_minor": 0,
  "metadata": {
    "colab": {
      "name": "TensorBoard_in_Colab.ipynb",
      "version": "0.3.2",
      "provenance": [],
      "include_colab_link": true
    },
    "kernelspec": {
      "name": "python3",
      "display_name": "Python 3"
    }
  },
  "cells": [
    {
      "cell_type": "markdown",
      "metadata": {
        "id": "view-in-github",
        "colab_type": "text"
      },
      "source": [
        "<a href=\"https://colab.research.google.com/github/alxfed/time-to-test-new-tensorflow/blob/master/TensorBoard_in_Colab.ipynb\" target=\"_parent\"><img src=\"https://colab.research.google.com/assets/colab-badge.svg\" alt=\"Open In Colab\"/></a>"
      ]
    },
    {
      "metadata": {
        "id": "9cK9821RMEqR",
        "colab_type": "text"
      },
      "cell_type": "markdown",
      "source": [
        "## Tensor Board in Colab"
      ]
    },
    {
      "metadata": {
        "id": "5Kk_caH1Manm",
        "colab_type": "text"
      },
      "cell_type": "markdown",
      "source": [
        "TensorBoard in Colab it's not that simple. https://github.com/taomanwai/tensorboardcolab"
      ]
    },
    {
      "metadata": {
        "id": "6sOJI3ehMiYm",
        "colab_type": "code",
        "colab": {
          "base_uri": "https://localhost:8080/",
          "height": 34
        },
        "outputId": "603b50ee-529e-4a24-99b9-6a3c23adf0ab"
      },
      "cell_type": "code",
      "source": [
        "!pip install -U tensorboardcolab"
      ],
      "execution_count": 1,
      "outputs": [
        {
          "output_type": "stream",
          "text": [
            "Requirement already up-to-date: tensorboardcolab in /usr/local/lib/python3.6/dist-packages (0.0.22)\n"
          ],
          "name": "stdout"
        }
      ]
    },
    {
      "metadata": {
        "id": "gCRhzDY5Mmlg",
        "colab_type": "text"
      },
      "cell_type": "markdown",
      "source": [
        "Import everyting"
      ]
    },
    {
      "metadata": {
        "id": "mOjw2HVJMzUe",
        "colab_type": "code",
        "colab": {
          "base_uri": "https://localhost:8080/",
          "height": 34
        },
        "outputId": "bd2786b4-6c55-46f8-be56-224a26202b27"
      },
      "cell_type": "code",
      "source": [
        "from tensorboardcolab import *"
      ],
      "execution_count": 2,
      "outputs": [
        {
          "output_type": "stream",
          "text": [
            "Using TensorFlow backend.\n"
          ],
          "name": "stderr"
        }
      ]
    },
    {
      "metadata": {
        "id": "Pylj7_DUM5f2",
        "colab_type": "text"
      },
      "cell_type": "markdown",
      "source": [
        "Initialize tensorboard"
      ]
    },
    {
      "metadata": {
        "id": "ZsQaBBxjM-i9",
        "colab_type": "code",
        "colab": {
          "base_uri": "https://localhost:8080/",
          "height": 67
        },
        "outputId": "bb12a7c4-2b5b-4159-f2b0-7dca5e8e14fe"
      },
      "cell_type": "code",
      "source": [
        "tbc=TensorBoardColab()"
      ],
      "execution_count": 3,
      "outputs": [
        {
          "output_type": "stream",
          "text": [
            "Wait for 8 seconds...\n",
            "TensorBoard link:\n",
            "http://84d37a0e.ngrok.io\n"
          ],
          "name": "stdout"
        }
      ]
    },
    {
      "metadata": {
        "id": "vQipUg82NK0x",
        "colab_type": "text"
      },
      "cell_type": "markdown",
      "source": [
        "Click the link to open it in another tab."
      ]
    },
    {
      "metadata": {
        "id": "wuHpjYVWL3nT",
        "colab_type": "code",
        "colab": {
          "base_uri": "https://localhost:8080/",
          "height": 104
        },
        "outputId": "47f82e20-0b83-411d-88ff-9bce2c3cce3d"
      },
      "cell_type": "code",
      "source": [
        "import tensorflow as tf\n",
        "import numpy as np\n",
        "\n",
        "# Assume Linear Model y = w * x + b\n",
        "# Define model parameters\n",
        "w = tf.Variable([.3], name='w', dtype=tf.float32)\n",
        "b = tf.Variable([-.3], name='b', dtype=tf.float32)\n",
        "# Define model input and output\n",
        "x = tf.placeholder(name='x', dtype=tf.float32)\n",
        "y = w * x + b\n",
        "\n",
        "with tf.Session() as tfs:\n",
        "    tf.global_variables_initializer().run()\n",
        "    writer = tf.summary.FileWriter('./Graph', tfs.graph)\n",
        "    print('run(y,{x:3}) : ', tfs.run(y, feed_dict={x: 3}))\n"
      ],
      "execution_count": 6,
      "outputs": [
        {
          "output_type": "stream",
          "text": [
            "WARNING:tensorflow:From /usr/local/lib/python3.6/dist-packages/tensorflow/python/framework/op_def_library.py:263: colocate_with (from tensorflow.python.framework.ops) is deprecated and will be removed in a future version.\n",
            "Instructions for updating:\n",
            "Colocations handled automatically by placer.\n",
            "run(y,{x:3}) :  [0.6]\n"
          ],
          "name": "stdout"
        }
      ]
    },
    {
      "metadata": {
        "id": "FGlVbo0mMAVP",
        "colab_type": "text"
      },
      "cell_type": "markdown",
      "source": [
        "And then open another tab.\n",
        "\n",
        "Works. \n",
        "\n",
        "I didn't realize that the TensorBoard thing points to './Graph' directory. Now I did."
      ]
    }
  ]
}